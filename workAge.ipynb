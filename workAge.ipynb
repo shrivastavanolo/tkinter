{
 "cells": [
  {
   "cell_type": "code",
   "execution_count": null,
   "metadata": {},
   "outputs": [],
   "source": [
    "age=int(input(\"Enter age:\"))\n",
    "res=\"NO, you can't work\"\n",
    "if age<=60:\n",
    "    if age>=18:\n",
    "        res=\"YES, you cannot work\"\n",
    "print(res)      "
   ]
  }
 ],
 "metadata": {
  "interpreter": {
   "hash": "205a7bd36b27f9547ad1ed3033c33081e087037a106c8df3149a97157904d11a"
  },
  "kernelspec": {
   "display_name": "Python 3.9.13 64-bit (windows store)",
   "language": "python",
   "name": "python3"
  },
  "language_info": {
   "codemirror_mode": {
    "name": "ipython",
    "version": 3
   },
   "file_extension": ".py",
   "mimetype": "text/x-python",
   "name": "python",
   "nbconvert_exporter": "python",
   "pygments_lexer": "ipython3",
   "version": "3.9.13"
  },
  "orig_nbformat": 4
 },
 "nbformat": 4,
 "nbformat_minor": 2
}
